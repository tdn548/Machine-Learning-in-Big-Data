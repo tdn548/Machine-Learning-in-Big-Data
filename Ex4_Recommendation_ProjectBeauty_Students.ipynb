{
 "cells": [
  {
   "cell_type": "code",
   "execution_count": 1,
   "metadata": {},
   "outputs": [],
   "source": [
    "import findspark\n",
    "findspark.init()"
   ]
  },
  {
   "cell_type": "code",
   "execution_count": 2,
   "metadata": {},
   "outputs": [],
   "source": [
    "from pyspark.sql import SparkSession\n",
    "from pyspark import SparkContext\n",
    "from pyspark import SparkConf"
   ]
  },
  {
   "cell_type": "code",
   "execution_count": 3,
   "metadata": {},
   "outputs": [],
   "source": [
    "SparkContext.setSystemProperty('spark.executor.memory', '12g')\n",
    "sc = SparkContext(master='local', appName='Recommendation_Beauty')"
   ]
  },
  {
   "cell_type": "code",
   "execution_count": 4,
   "metadata": {},
   "outputs": [],
   "source": [
    "from pyspark.sql.types import DoubleType\n",
    "from pyspark.sql.functions import isnan, when, count, col, udf"
   ]
  },
  {
   "cell_type": "code",
   "execution_count": 5,
   "metadata": {},
   "outputs": [],
   "source": [
    "spark = SparkSession(sc)"
   ]
  },
  {
   "cell_type": "code",
   "execution_count": 6,
   "metadata": {},
   "outputs": [],
   "source": [
    "data = spark.read.json(\"Beauty_5.json\")"
   ]
  },
  {
   "cell_type": "code",
   "execution_count": 7,
   "metadata": {},
   "outputs": [
    {
     "name": "stdout",
     "output_type": "stream",
     "text": [
      "+----------+-------+-------+--------------------+-----------+--------------+------------+--------------------+--------------+\n",
      "|      asin|helpful|overall|          reviewText| reviewTime|    reviewerID|reviewerName|             summary|unixReviewTime|\n",
      "+----------+-------+-------+--------------------+-----------+--------------+------------+--------------------+--------------+\n",
      "|7806397051| [3, 4]|    1.0|Very oily and cre...|01 30, 2014|A1YJEY40YUW4SE|      Andrea|Don't waste your ...|    1391040000|\n",
      "|7806397051| [1, 1]|    3.0|This palette was ...|04 18, 2014| A60XNB876KYML|  Jessica H.|         OK Palette!|    1397779200|\n",
      "|7806397051| [0, 1]|    4.0|The texture of th...| 09 6, 2013|A3G6XNM240RMWA|       Karen|       great quality|    1378425600|\n",
      "|7806397051| [2, 2]|    2.0|I really can't te...| 12 8, 2013|A1PQFP6SAJ6D80|       Norah|Do not work on my...|    1386460800|\n",
      "|7806397051| [0, 0]|    3.0|It was a little s...|10 19, 2013|A38FVHZTNQ271F|   Nova Amor|          It's okay.|    1382140800|\n",
      "+----------+-------+-------+--------------------+-----------+--------------+------------+--------------------+--------------+\n",
      "only showing top 5 rows\n",
      "\n"
     ]
    }
   ],
   "source": [
    "data.show(5,truncate=True)"
   ]
  },
  {
   "cell_type": "code",
   "execution_count": 8,
   "metadata": {},
   "outputs": [],
   "source": [
    "data_sub = data.select(['asin', 'overall', 'reviewerID'])"
   ]
  },
  {
   "cell_type": "code",
   "execution_count": 9,
   "metadata": {},
   "outputs": [
    {
     "data": {
      "text/plain": [
       "198502"
      ]
     },
     "execution_count": 9,
     "metadata": {},
     "output_type": "execute_result"
    }
   ],
   "source": [
    "data_sub.count()"
   ]
  },
  {
   "cell_type": "code",
   "execution_count": 10,
   "metadata": {},
   "outputs": [
    {
     "name": "stdout",
     "output_type": "stream",
     "text": [
      "+----------+-------+--------------+\n",
      "|      asin|overall|    reviewerID|\n",
      "+----------+-------+--------------+\n",
      "|7806397051|    1.0|A1YJEY40YUW4SE|\n",
      "|7806397051|    3.0| A60XNB876KYML|\n",
      "|7806397051|    4.0|A3G6XNM240RMWA|\n",
      "|7806397051|    2.0|A1PQFP6SAJ6D80|\n",
      "|7806397051|    3.0|A38FVHZTNQ271F|\n",
      "|7806397051|    5.0|A3BTN14HIZET6Z|\n",
      "|7806397051|    1.0|A1Z59RFKN0M5QL|\n",
      "|7806397051|    2.0| AWUO9P6PL1SY8|\n",
      "|9759091062|    2.0|A3LMILRM9OC3SA|\n",
      "|9759091062|    3.0|A30IP88QK3YUIO|\n",
      "|9759091062|    3.0| APBQH4BS48CQO|\n",
      "|9759091062|    1.0|A3FE8W8UV95U6B|\n",
      "|9759091062|    5.0|A1EVGDOTGFZOSS|\n",
      "|9759091062|    1.0| AP5WTCMP6DTRV|\n",
      "|9759091062|    5.0|A21IM16PQWKVO5|\n",
      "|9759091062|    2.0|A1TLDR1V4O48PK|\n",
      "|9759091062|    5.0| A6F8KH0J1AVYA|\n",
      "|9759091062|    4.0| AXPKZA7UZXKTT|\n",
      "|9759091062|    3.0|A2SIAYDK7GG7QA|\n",
      "|9788072216|    5.0|A1QV5IH6HDRN0L|\n",
      "+----------+-------+--------------+\n",
      "only showing top 20 rows\n",
      "\n"
     ]
    }
   ],
   "source": [
    "data_sub.show()"
   ]
  },
  {
   "cell_type": "code",
   "execution_count": 11,
   "metadata": {},
   "outputs": [],
   "source": [
    "from pyspark.sql.types import DoubleType\n",
    "from pyspark.sql.functions import isnan, when, count, col, udf"
   ]
  },
  {
   "cell_type": "code",
   "execution_count": 12,
   "metadata": {},
   "outputs": [],
   "source": [
    "data_sub = data_sub.withColumn(\"overall\", data_sub[\"overall\"].cast(DoubleType()))"
   ]
  },
  {
   "cell_type": "code",
   "execution_count": 13,
   "metadata": {},
   "outputs": [
    {
     "name": "stdout",
     "output_type": "stream",
     "text": [
      "+----------+-------+--------------+\n",
      "|      asin|overall|    reviewerID|\n",
      "+----------+-------+--------------+\n",
      "|7806397051|    1.0|A1YJEY40YUW4SE|\n",
      "|7806397051|    3.0| A60XNB876KYML|\n",
      "|7806397051|    4.0|A3G6XNM240RMWA|\n",
      "|7806397051|    2.0|A1PQFP6SAJ6D80|\n",
      "|7806397051|    3.0|A38FVHZTNQ271F|\n",
      "+----------+-------+--------------+\n",
      "only showing top 5 rows\n",
      "\n"
     ]
    }
   ],
   "source": [
    "data_sub.show(5, truncate=True)"
   ]
  },
  {
   "cell_type": "code",
   "execution_count": 14,
   "metadata": {},
   "outputs": [],
   "source": [
    "# check isnull and isna"
   ]
  },
  {
   "cell_type": "code",
   "execution_count": 15,
   "metadata": {},
   "outputs": [
    {
     "data": {
      "text/html": [
       "<div>\n",
       "<style scoped>\n",
       "    .dataframe tbody tr th:only-of-type {\n",
       "        vertical-align: middle;\n",
       "    }\n",
       "\n",
       "    .dataframe tbody tr th {\n",
       "        vertical-align: top;\n",
       "    }\n",
       "\n",
       "    .dataframe thead th {\n",
       "        text-align: right;\n",
       "    }\n",
       "</style>\n",
       "<table border=\"1\" class=\"dataframe\">\n",
       "  <thead>\n",
       "    <tr style=\"text-align: right;\">\n",
       "      <th></th>\n",
       "      <th>0</th>\n",
       "    </tr>\n",
       "  </thead>\n",
       "  <tbody>\n",
       "    <tr>\n",
       "      <th>asin</th>\n",
       "      <td>0</td>\n",
       "    </tr>\n",
       "    <tr>\n",
       "      <th>overall</th>\n",
       "      <td>0</td>\n",
       "    </tr>\n",
       "    <tr>\n",
       "      <th>reviewerID</th>\n",
       "      <td>0</td>\n",
       "    </tr>\n",
       "  </tbody>\n",
       "</table>\n",
       "</div>"
      ],
      "text/plain": [
       "            0\n",
       "asin        0\n",
       "overall     0\n",
       "reviewerID  0"
      ]
     },
     "execution_count": 15,
     "metadata": {},
     "output_type": "execute_result"
    }
   ],
   "source": [
    "data_sub.select([count(when(col(c).isNull(), c)).alias(c) for c in \n",
    "           data_sub.columns]).toPandas().T"
   ]
  },
  {
   "cell_type": "code",
   "execution_count": 16,
   "metadata": {},
   "outputs": [],
   "source": [
    "# Distinct users and movies\n",
    "users = data_sub.select(\"reviewerID\").distinct().count()\n",
    "products = data_sub.select(\"asin\").distinct().count()\n",
    "numerator = data_sub.count()"
   ]
  },
  {
   "cell_type": "code",
   "execution_count": 17,
   "metadata": {},
   "outputs": [
    {
     "data": {
      "text/plain": [
       "198502"
      ]
     },
     "metadata": {},
     "output_type": "display_data"
    },
    {
     "data": {
      "text/plain": [
       "22363"
      ]
     },
     "metadata": {},
     "output_type": "display_data"
    },
    {
     "data": {
      "text/plain": [
       "12101"
      ]
     },
     "metadata": {},
     "output_type": "display_data"
    }
   ],
   "source": [
    "display(numerator, users, products)"
   ]
  },
  {
   "cell_type": "code",
   "execution_count": 18,
   "metadata": {},
   "outputs": [
    {
     "data": {
      "text/plain": [
       "270614663"
      ]
     },
     "execution_count": 18,
     "metadata": {},
     "output_type": "execute_result"
    }
   ],
   "source": [
    "#Number of rating matrix could contain if no empty cells\n",
    "denominator=users*products\n",
    "denominator"
   ]
  },
  {
   "cell_type": "code",
   "execution_count": 19,
   "metadata": {},
   "outputs": [
    {
     "name": "stdout",
     "output_type": "stream",
     "text": [
      "Sparsity: \n"
     ]
    },
    {
     "data": {
      "text/plain": [
       "(None, 0.9992664772935825)"
      ]
     },
     "execution_count": 19,
     "metadata": {},
     "output_type": "execute_result"
    }
   ],
   "source": [
    "# Calculating sparsity\n",
    "sparsity = 1 - (numerator*1 / denominator)\n",
    "print(\"Sparsity: \"), sparsity"
   ]
  },
  {
   "cell_type": "code",
   "execution_count": 20,
   "metadata": {},
   "outputs": [],
   "source": [
    "from pyspark.ml.evaluation import RegressionEvaluator\n",
    "from pyspark.ml.recommendation import ALS"
   ]
  },
  {
   "cell_type": "code",
   "execution_count": 21,
   "metadata": {},
   "outputs": [],
   "source": [
    "# Converting String to index\n",
    "from pyspark.ml.feature import StringIndexer\n",
    "from pyspark.ml import Pipeline\n",
    "from pyspark.sql.functions import col"
   ]
  },
  {
   "cell_type": "code",
   "execution_count": 22,
   "metadata": {},
   "outputs": [],
   "source": [
    "# Create an indexer\n",
    "indexer = StringIndexer(inputCol='asin', \n",
    "                        outputCol='asin_idx')\n",
    "\n",
    "# Indexer identifies categories in the data\n",
    "indexer_model = indexer.fit(data_sub)\n",
    "\n",
    "# Indexer creates a new column with numeric index values\n",
    "data_indexed = indexer_model.transform(data_sub)\n",
    "\n",
    "# Repeat the process for the other categorical feature\n",
    "indexer1 = StringIndexer(inputCol='reviewerID', \n",
    "                         outputCol='reviewerID_idx')\n",
    "indexer1_model = indexer1.fit(data_indexed)\n",
    "data_indexed = indexer1_model.transform(data_indexed)"
   ]
  },
  {
   "cell_type": "code",
   "execution_count": 23,
   "metadata": {},
   "outputs": [
    {
     "name": "stdout",
     "output_type": "stream",
     "text": [
      "+----------+-------+--------------+--------+--------------+\n",
      "|      asin|overall|    reviewerID|asin_idx|reviewerID_idx|\n",
      "+----------+-------+--------------+--------+--------------+\n",
      "|7806397051|    1.0|A1YJEY40YUW4SE|  6194.0|       16983.0|\n",
      "|7806397051|    3.0| A60XNB876KYML|  6194.0|       10399.0|\n",
      "|7806397051|    4.0|A3G6XNM240RMWA|  6194.0|        5985.0|\n",
      "|7806397051|    2.0|A1PQFP6SAJ6D80|  6194.0|       11765.0|\n",
      "|7806397051|    3.0|A38FVHZTNQ271F|  6194.0|        5910.0|\n",
      "+----------+-------+--------------+--------+--------------+\n",
      "only showing top 5 rows\n",
      "\n"
     ]
    }
   ],
   "source": [
    "data_indexed.show(5, truncate=True)"
   ]
  },
  {
   "cell_type": "code",
   "execution_count": 24,
   "metadata": {},
   "outputs": [
    {
     "data": {
      "text/html": [
       "<div>\n",
       "<style scoped>\n",
       "    .dataframe tbody tr th:only-of-type {\n",
       "        vertical-align: middle;\n",
       "    }\n",
       "\n",
       "    .dataframe tbody tr th {\n",
       "        vertical-align: top;\n",
       "    }\n",
       "\n",
       "    .dataframe thead th {\n",
       "        text-align: right;\n",
       "    }\n",
       "</style>\n",
       "<table border=\"1\" class=\"dataframe\">\n",
       "  <thead>\n",
       "    <tr style=\"text-align: right;\">\n",
       "      <th></th>\n",
       "      <th>0</th>\n",
       "    </tr>\n",
       "  </thead>\n",
       "  <tbody>\n",
       "    <tr>\n",
       "      <th>asin</th>\n",
       "      <td>0</td>\n",
       "    </tr>\n",
       "    <tr>\n",
       "      <th>overall</th>\n",
       "      <td>0</td>\n",
       "    </tr>\n",
       "    <tr>\n",
       "      <th>reviewerID</th>\n",
       "      <td>0</td>\n",
       "    </tr>\n",
       "    <tr>\n",
       "      <th>asin_idx</th>\n",
       "      <td>0</td>\n",
       "    </tr>\n",
       "    <tr>\n",
       "      <th>reviewerID_idx</th>\n",
       "      <td>0</td>\n",
       "    </tr>\n",
       "  </tbody>\n",
       "</table>\n",
       "</div>"
      ],
      "text/plain": [
       "                0\n",
       "asin            0\n",
       "overall         0\n",
       "reviewerID      0\n",
       "asin_idx        0\n",
       "reviewerID_idx  0"
      ]
     },
     "execution_count": 24,
     "metadata": {},
     "output_type": "execute_result"
    }
   ],
   "source": [
    "data_indexed.select([count(when(col(c).isNull(), c)).alias(c) for c in \n",
    "           data_indexed.columns]).toPandas().T"
   ]
  },
  {
   "cell_type": "code",
   "execution_count": 25,
   "metadata": {},
   "outputs": [],
   "source": [
    "# Smaller dataset so we will use 0.8 / 0.2\n",
    "(training, test) = data_indexed.randomSplit([0.8, 0.2])"
   ]
  },
  {
   "cell_type": "code",
   "execution_count": 26,
   "metadata": {},
   "outputs": [],
   "source": [
    "# Creating ALS model and fitting data\n",
    "from pyspark.ml.evaluation import RegressionEvaluator\n",
    "from pyspark.ml.recommendation import ALS"
   ]
  },
  {
   "cell_type": "code",
   "execution_count": 27,
   "metadata": {},
   "outputs": [],
   "source": [
    "als = ALS(maxIter=10, \n",
    "          regParam=0.09, \n",
    "          rank = 25,\n",
    "          userCol=\"reviewerID_idx\", \n",
    "          itemCol=\"asin_idx\", \n",
    "          ratingCol=\"overall\", \n",
    "          coldStartStrategy=\"drop\",\n",
    "          nonnegative=True)\n",
    "model = als.fit(training)"
   ]
  },
  {
   "cell_type": "code",
   "execution_count": 28,
   "metadata": {},
   "outputs": [],
   "source": [
    "# Evaluate the model by computing the RMSE on the test data\n",
    "predictions = model.transform(test)"
   ]
  },
  {
   "cell_type": "code",
   "execution_count": 29,
   "metadata": {},
   "outputs": [
    {
     "name": "stdout",
     "output_type": "stream",
     "text": [
      "+----------+-------+--------------+--------+--------------+----------+\n",
      "|      asin|overall|    reviewerID|asin_idx|reviewerID_idx|prediction|\n",
      "+----------+-------+--------------+--------+--------------+----------+\n",
      "|B005TI7NQW|    5.0|A29M09QBG9TZLP|   148.0|         148.0|  4.500859|\n",
      "|B005TI7NQW|    2.0|A3CG93783LP0FO|   148.0|          31.0| 3.0827653|\n",
      "|B005TI7NQW|    3.0|A2E7RX6AFUDQEX|   148.0|         961.0|  3.496467|\n",
      "|B005TI7NQW|    1.0|A103BJIOJSDJL1|   148.0|         796.0| 3.6069114|\n",
      "|B005TI7NQW|    5.0| ALQ4USPEQ9L5N|   148.0|         350.0| 4.1296864|\n",
      "+----------+-------+--------------+--------+--------------+----------+\n",
      "only showing top 5 rows\n",
      "\n"
     ]
    }
   ],
   "source": [
    "predictions.show(5)"
   ]
  },
  {
   "cell_type": "code",
   "execution_count": 30,
   "metadata": {},
   "outputs": [],
   "source": [
    "evaluator = RegressionEvaluator(metricName=\"rmse\", \n",
    "                                labelCol=\"overall\",\n",
    "                                predictionCol=\"prediction\")\n",
    "rmse = evaluator.evaluate(predictions)"
   ]
  },
  {
   "cell_type": "code",
   "execution_count": 31,
   "metadata": {},
   "outputs": [
    {
     "name": "stdout",
     "output_type": "stream",
     "text": [
      "Root-mean-square error = 1.2770569937693024\n"
     ]
    }
   ],
   "source": [
    "print(\"Root-mean-square error = \" + str(rmse))"
   ]
  },
  {
   "cell_type": "code",
   "execution_count": 33,
   "metadata": {},
   "outputs": [],
   "source": [
    "# save model to disk\n",
    "model.save(\"Beauty_model_rec\")"
   ]
  },
  {
   "cell_type": "markdown",
   "metadata": {},
   "source": [
    "## Providing Recommendations: for all users¶\n"
   ]
  },
  {
   "cell_type": "code",
   "execution_count": 34,
   "metadata": {},
   "outputs": [],
   "source": [
    "# get 5 recommendations which have highest rating.\n",
    "user_recs = model.recommendForAllUsers(5) "
   ]
  },
  {
   "cell_type": "code",
   "execution_count": 60,
   "metadata": {},
   "outputs": [
    {
     "name": "stdout",
     "output_type": "stream",
     "text": [
      "root\n",
      " |-- reviewerID_idx: integer (nullable = false)\n",
      " |-- recommendations: array (nullable = true)\n",
      " |    |-- element: struct (containsNull = true)\n",
      " |    |    |-- asin_idx: integer (nullable = true)\n",
      " |    |    |-- rating: float (nullable = true)\n",
      "\n"
     ]
    }
   ],
   "source": [
    "user_recs.printSchema()"
   ]
  },
  {
   "cell_type": "code",
   "execution_count": 35,
   "metadata": {
    "scrolled": true
   },
   "outputs": [
    {
     "name": "stdout",
     "output_type": "stream",
     "text": [
      "+--------------+----------------------------------------------------------------------------------------------------+\n",
      "|reviewerID_idx|recommendations                                                                                     |\n",
      "+--------------+----------------------------------------------------------------------------------------------------+\n",
      "|1580          |[{6349, 5.1124573}, {9362, 4.9636087}, {11754, 4.916339}, {7721, 4.9063406}, {5849, 4.8832984}]     |\n",
      "|4900          |[{3151, 6.2372746}, {6938, 6.0787635}, {5485, 6.0302296}, {3014, 6.009975}, {4983, 5.971571}]       |\n",
      "|5300          |[{8407, 5.807998}, {7372, 5.763184}, {6349, 5.737353}, {8542, 5.653916}, {4654, 5.6474595}]         |\n",
      "|6620          |[{11395, 6.2782483}, {12075, 6.2747087}, {12071, 6.2686257}, {12067, 6.2686257}, {12069, 6.2686257}]|\n",
      "|7240          |[{10205, 5.226036}, {8394, 5.1818295}, {8952, 5.1741934}, {4496, 5.168859}, {7107, 5.156276}]       |\n",
      "|7340          |[{8407, 5.4019723}, {10205, 5.2157407}, {10838, 5.1263766}, {7780, 5.113244}, {4945, 4.958289}]     |\n",
      "|7880          |[{6349, 5.7182574}, {3151, 5.5477333}, {8473, 5.4545984}, {4921, 5.420878}, {3807, 5.411584}]       |\n",
      "|9900          |[{11516, 4.9962597}, {4731, 4.9922647}, {7372, 4.967146}, {3516, 4.933049}, {7334, 4.887926}]       |\n",
      "|12940         |[{6746, 4.7365127}, {942, 4.619765}, {10747, 4.603415}, {5273, 4.575824}, {5201, 4.542654}]         |\n",
      "|13840         |[{4008, 4.992255}, {4444, 4.9890747}, {6305, 4.8983603}, {9618, 4.8155627}, {5735, 4.815037}]       |\n",
      "+--------------+----------------------------------------------------------------------------------------------------+\n",
      "only showing top 10 rows\n",
      "\n"
     ]
    }
   ],
   "source": [
    "user_recs.show(10, truncate=False)"
   ]
  },
  {
   "cell_type": "code",
   "execution_count": 36,
   "metadata": {},
   "outputs": [
    {
     "data": {
      "text/plain": [
       "22361"
      ]
     },
     "execution_count": 36,
     "metadata": {},
     "output_type": "execute_result"
    }
   ],
   "source": [
    "user_recs.count()"
   ]
  },
  {
   "cell_type": "code",
   "execution_count": 37,
   "metadata": {},
   "outputs": [
    {
     "name": "stdout",
     "output_type": "stream",
     "text": [
      "Row(reviewerID_idx=1580, recommendations=[Row(asin_idx=6349, rating=5.112457275390625), Row(asin_idx=9362, rating=4.963608741760254), Row(asin_idx=11754, rating=4.916338920593262), Row(asin_idx=7721, rating=4.906340599060059), Row(asin_idx=5849, rating=4.883298397064209)])\n",
      "\n",
      "\n",
      "Row(reviewerID_idx=4900, recommendations=[Row(asin_idx=3151, rating=6.237274646759033), Row(asin_idx=6938, rating=6.078763484954834), Row(asin_idx=5485, rating=6.030229568481445), Row(asin_idx=3014, rating=6.009974956512451), Row(asin_idx=4983, rating=5.97157096862793)])\n",
      "\n",
      "\n",
      "Row(reviewerID_idx=5300, recommendations=[Row(asin_idx=8407, rating=5.807998180389404), Row(asin_idx=7372, rating=5.763184070587158), Row(asin_idx=6349, rating=5.7373528480529785), Row(asin_idx=8542, rating=5.653915882110596), Row(asin_idx=4654, rating=5.647459506988525)])\n",
      "\n",
      "\n",
      "Row(reviewerID_idx=6620, recommendations=[Row(asin_idx=11395, rating=6.278248310089111), Row(asin_idx=12075, rating=6.2747087478637695), Row(asin_idx=12071, rating=6.268625736236572), Row(asin_idx=12067, rating=6.268625736236572), Row(asin_idx=12069, rating=6.268625736236572)])\n",
      "\n",
      "\n",
      "Row(reviewerID_idx=7240, recommendations=[Row(asin_idx=10205, rating=5.226036071777344), Row(asin_idx=8394, rating=5.181829452514648), Row(asin_idx=8952, rating=5.174193382263184), Row(asin_idx=4496, rating=5.168859004974365), Row(asin_idx=7107, rating=5.156276226043701)])\n",
      "\n",
      "\n"
     ]
    }
   ],
   "source": [
    "for user in user_recs.head(5):\n",
    "    print(user)\n",
    "    print(\"\\n\")"
   ]
  },
  {
   "cell_type": "markdown",
   "metadata": {},
   "source": [
    "## Save to file\n"
   ]
  },
  {
   "cell_type": "code",
   "execution_count": 38,
   "metadata": {},
   "outputs": [],
   "source": [
    "from time import time"
   ]
  },
  {
   "cell_type": "code",
   "execution_count": 61,
   "metadata": {},
   "outputs": [],
   "source": [
    "t0 = time()"
   ]
  },
  {
   "cell_type": "code",
   "execution_count": 62,
   "metadata": {},
   "outputs": [
    {
     "data": {
      "text/plain": [
       "22363"
      ]
     },
     "execution_count": 62,
     "metadata": {},
     "output_type": "execute_result"
    }
   ],
   "source": [
    "df_reviewer_reviewer_id = data_indexed.select('reviewerID_idx', 'reviewerID').distinct()\n",
    "df_reviewer_reviewer_id.count()\n"
   ]
  },
  {
   "cell_type": "code",
   "execution_count": 63,
   "metadata": {},
   "outputs": [
    {
     "name": "stdout",
     "output_type": "stream",
     "text": [
      "+--------------+--------------+\n",
      "|reviewerID_idx|    reviewerID|\n",
      "+--------------+--------------+\n",
      "|        7501.0|A339O8ZW72WHZ0|\n",
      "|           2.0| AKMEY1BSHSDG7|\n",
      "|        9739.0|A30B9UTVDTUQ7Y|\n",
      "|       11415.0|A1FMYCX030FIDE|\n",
      "|         718.0| AUFB3GQJV10P0|\n",
      "+--------------+--------------+\n",
      "only showing top 5 rows\n",
      "\n"
     ]
    }
   ],
   "source": [
    "df_reviewer_reviewer_id.show(5)\n"
   ]
  },
  {
   "cell_type": "code",
   "execution_count": 64,
   "metadata": {},
   "outputs": [],
   "source": [
    "df_asin_asin_idx = data_indexed.select('asin_idx', 'asin').distinct()\n"
   ]
  },
  {
   "cell_type": "code",
   "execution_count": 65,
   "metadata": {},
   "outputs": [
    {
     "data": {
      "text/plain": [
       "12101"
      ]
     },
     "execution_count": 65,
     "metadata": {},
     "output_type": "execute_result"
    }
   ],
   "source": [
    "df_asin_asin_idx.count()\n"
   ]
  },
  {
   "cell_type": "code",
   "execution_count": 66,
   "metadata": {},
   "outputs": [
    {
     "name": "stdout",
     "output_type": "stream",
     "text": [
      "+--------+----------+\n",
      "|asin_idx|      asin|\n",
      "+--------+----------+\n",
      "|  6203.0|B00005TZU8|\n",
      "|  9941.0|B00005UN90|\n",
      "|  3659.0|B000142ZFS|\n",
      "|   810.0|B00027DDOQ|\n",
      "|  3399.0|B0006IJA5C|\n",
      "+--------+----------+\n",
      "only showing top 5 rows\n",
      "\n"
     ]
    }
   ],
   "source": [
    "df_asin_asin_idx.show(5)\n"
   ]
  },
  {
   "cell_type": "code",
   "execution_count": 67,
   "metadata": {},
   "outputs": [],
   "source": [
    "new_user_recs = user_recs.join(df_reviewer_reviewer_id, on=['reviewerID_idx'], how='left')\n"
   ]
  },
  {
   "cell_type": "code",
   "execution_count": 68,
   "metadata": {},
   "outputs": [
    {
     "name": "stdout",
     "output_type": "stream",
     "text": [
      "+--------------+------------------------------------------------------------------------------------------------+--------------+\n",
      "|reviewerID_idx|recommendations                                                                                 |reviewerID    |\n",
      "+--------------+------------------------------------------------------------------------------------------------+--------------+\n",
      "|299           |[{4080, 5.5028005}, {3708, 5.441769}, {11045, 5.421581}, {4945, 5.391164}, {11458, 5.363096}]   |A2CZPM110DW516|\n",
      "|305           |[{8050, 6.176378}, {3459, 6.1532326}, {8701, 6.132951}, {7358, 6.104656}, {4327, 6.0992346}]    |A3EPHBMU07LZ50|\n",
      "|496           |[{8271, 5.0819235}, {1937, 5.0472856}, {1222, 4.9501734}, {10853, 4.923757}, {11379, 4.9205723}]|A2A5C9IQ06CG9N|\n",
      "|558           |[{5273, 5.619913}, {12060, 5.5140877}, {8257, 5.507486}, {12087, 5.497896}, {9904, 5.4956317}]  |A9LWDP1HECAU0 |\n",
      "|596           |[{8057, 5.1836796}, {7721, 5.046693}, {6349, 5.027194}, {5185, 5.0038695}, {8542, 4.9934382}]   |AEJEG1P5S4J9Y |\n",
      "|692           |[{10370, 4.138239}, {7708, 3.9206984}, {1331, 3.8994484}, {606, 3.7949986}, {3300, 3.7730203}]  |A2XNJJ9TF70P4J|\n",
      "|769           |[{3747, 5.119688}, {6398, 5.07254}, {3525, 5.026907}, {4730, 4.98357}, {3365, 4.9604297}]       |A3PYMW0LCZUJR6|\n",
      "|934           |[{4529, 5.1877985}, {8394, 5.174363}, {2946, 5.161176}, {7301, 5.135018}, {8648, 5.112736}]     |AX7QMRXX81L9K |\n",
      "|1051          |[{3708, 5.480376}, {6307, 5.4530554}, {4951, 5.1970205}, {9015, 5.1467795}, {6670, 5.142315}]   |A22B13EJTZKCTM|\n",
      "|1761          |[{3708, 6.9367876}, {10381, 6.841219}, {6232, 6.735456}, {9199, 6.721535}, {10205, 6.719001}]   |A1P5QZJB3QWL0B|\n",
      "+--------------+------------------------------------------------------------------------------------------------+--------------+\n",
      "only showing top 10 rows\n",
      "\n"
     ]
    }
   ],
   "source": [
    "new_user_recs.show(10, truncate=False)\n"
   ]
  },
  {
   "cell_type": "code",
   "execution_count": 69,
   "metadata": {},
   "outputs": [
    {
     "data": {
      "text/plain": [
       "22361"
      ]
     },
     "execution_count": 69,
     "metadata": {},
     "output_type": "execute_result"
    }
   ],
   "source": [
    "new_user_recs.count()\n"
   ]
  },
  {
   "cell_type": "code",
   "execution_count": 70,
   "metadata": {},
   "outputs": [],
   "source": [
    "# Save to disk\n",
    "new_user_recs.write.parquet('Beauty_U.parquet', mode='overwrite')\n",
    "df_asin_asin_idx.write.parquet('Beauty_P.parquet', mode='overwrite')"
   ]
  },
  {
   "cell_type": "code",
   "execution_count": 71,
   "metadata": {},
   "outputs": [
    {
     "name": "stdout",
     "output_type": "stream",
     "text": [
      "617.9989709854126\n"
     ]
    }
   ],
   "source": [
    "time_duration = time() - t0\n",
    "print(time_duration)"
   ]
  },
  {
   "cell_type": "code",
   "execution_count": 72,
   "metadata": {},
   "outputs": [],
   "source": [
    "# Recommendation for reviewerID = 'AJK5XGCM6M68A'\n",
    "find_user_rec = new_user_recs.filter(new_user_recs['reviewerID'] == 'AJK5XGCM6M68A')\n",
    "user = find_user_rec.first() \n",
    "lst = []\n",
    "for row in user['recommendations']:   \n",
    "    row_f = df_asin_asin_idx.filter(df_asin_asin_idx.asin_idx == row['asin_idx'])  \n",
    "    row_f_first = row_f.first()\n",
    "    lst.append((row['asin_idx'], row_f_first['asin'], row['rating']))\n",
    "dic_user_rec = {'reviewerID' : user.reviewerID, 'recommendations' :lst}  "
   ]
  },
  {
   "cell_type": "code",
   "execution_count": 73,
   "metadata": {},
   "outputs": [
    {
     "data": {
      "text/plain": [
       "{'reviewerID': 'AJK5XGCM6M68A',\n",
       " 'recommendations': [(9015, 'B002TYBGUS', 6.009134292602539),\n",
       "  (4945, 'B000BZ4YB0', 5.972158908843994),\n",
       "  (10205, 'B000JLAWIA', 5.968705654144287),\n",
       "  (11458, 'B005KE1IH0', 5.95878791809082),\n",
       "  (8407, 'B000C235A8', 5.906177043914795)]}"
      ]
     },
     "execution_count": 73,
     "metadata": {},
     "output_type": "execute_result"
    }
   ],
   "source": [
    "dic_user_rec \n"
   ]
  },
  {
   "cell_type": "markdown",
   "metadata": {},
   "source": [
    "## Đọc 2 file đã lưu để lấy dữ liệu đầu vào => Đề xuất"
   ]
  },
  {
   "cell_type": "code",
   "execution_count": 74,
   "metadata": {},
   "outputs": [],
   "source": [
    "# Read the Parquet file into a new DataFrame \n",
    "new_user_recs = spark.read.parquet('Beauty_U.parquet')"
   ]
  },
  {
   "cell_type": "code",
   "execution_count": 75,
   "metadata": {},
   "outputs": [
    {
     "name": "stdout",
     "output_type": "stream",
     "text": [
      "root\n",
      " |-- reviewerID_idx: integer (nullable = true)\n",
      " |-- recommendations: array (nullable = true)\n",
      " |    |-- element: struct (containsNull = true)\n",
      " |    |    |-- asin_idx: integer (nullable = true)\n",
      " |    |    |-- rating: float (nullable = true)\n",
      " |-- reviewerID: string (nullable = true)\n",
      "\n"
     ]
    }
   ],
   "source": [
    "new_user_recs.printSchema()"
   ]
  },
  {
   "cell_type": "code",
   "execution_count": 76,
   "metadata": {},
   "outputs": [
    {
     "name": "stdout",
     "output_type": "stream",
     "text": [
      "+--------------+--------------------+--------------+\n",
      "|reviewerID_idx|     recommendations|    reviewerID|\n",
      "+--------------+--------------------+--------------+\n",
      "|           322|[{5353, 5.362688}...|A2EBR70V6P9W0N|\n",
      "|           417|[{8617, 5.749925}...|A1BD342U8BF3UC|\n",
      "+--------------+--------------------+--------------+\n",
      "only showing top 2 rows\n",
      "\n"
     ]
    }
   ],
   "source": [
    "new_user_recs.show(2)"
   ]
  },
  {
   "cell_type": "code",
   "execution_count": 77,
   "metadata": {},
   "outputs": [],
   "source": [
    "df_asin_asin_idx = spark.read.parquet('Beauty_P.parquet')\n"
   ]
  },
  {
   "cell_type": "code",
   "execution_count": 78,
   "metadata": {},
   "outputs": [
    {
     "name": "stdout",
     "output_type": "stream",
     "text": [
      "root\n",
      " |-- asin_idx: double (nullable = true)\n",
      " |-- asin: string (nullable = true)\n",
      "\n"
     ]
    }
   ],
   "source": [
    "df_asin_asin_idx.printSchema()"
   ]
  },
  {
   "cell_type": "code",
   "execution_count": 79,
   "metadata": {},
   "outputs": [
    {
     "name": "stdout",
     "output_type": "stream",
     "text": [
      "+--------+----------+\n",
      "|asin_idx|      asin|\n",
      "+--------+----------+\n",
      "|  6194.0|7806397051|\n",
      "|  5523.0|B0000AJ3PT|\n",
      "+--------+----------+\n",
      "only showing top 2 rows\n",
      "\n"
     ]
    }
   ],
   "source": [
    "df_asin_asin_idx.show(2)"
   ]
  },
  {
   "cell_type": "code",
   "execution_count": 80,
   "metadata": {},
   "outputs": [
    {
     "name": "stdout",
     "output_type": "stream",
     "text": [
      "+--------------+----------------------------------------------------------------------------------------------+-------------+\n",
      "|reviewerID_idx|recommendations                                                                               |reviewerID   |\n",
      "+--------------+----------------------------------------------------------------------------------------------+-------------+\n",
      "|21521         |[{9015, 6.0091343}, {4945, 5.972159}, {10205, 5.9687057}, {11458, 5.958788}, {8407, 5.906177}]|AJK5XGCM6M68A|\n",
      "+--------------+----------------------------------------------------------------------------------------------+-------------+\n",
      "\n"
     ]
    }
   ],
   "source": [
    "# Recommendation for reviewerID = 'AJK5XGCM6M68A'\n",
    "find_user_rec = new_user_recs.filter(new_user_recs['reviewerID'] == 'AJK5XGCM6M68A')\n",
    "find_user_rec.show(truncate=False)"
   ]
  },
  {
   "cell_type": "code",
   "execution_count": 81,
   "metadata": {},
   "outputs": [
    {
     "name": "stdout",
     "output_type": "stream",
     "text": [
      "Row(asin_idx=9015, rating=6.009134292602539)\n",
      "Row(asin_idx=4945, rating=5.972158908843994)\n",
      "Row(asin_idx=10205, rating=5.968705654144287)\n",
      "Row(asin_idx=11458, rating=5.95878791809082)\n",
      "Row(asin_idx=8407, rating=5.906177043914795)\n"
     ]
    }
   ],
   "source": [
    "result = ''\n",
    "for user in find_user_rec.collect():\n",
    "  lst = []\n",
    "  for row in user['recommendations']:   \n",
    "      print(row)\n",
    "      row_f = df_asin_asin_idx.filter(df_asin_asin_idx.asin_idx == row['asin_idx'])  \n",
    "      row_f_first = row_f.first()\n",
    "      lst.append((row['asin_idx'], row_f_first['asin'], row['rating']))\n",
    "  dic_user_rec = {'reviewerID' : user.reviewerID, 'recommendations' :lst}     \n",
    "  result = dic_user_rec"
   ]
  },
  {
   "cell_type": "code",
   "execution_count": 82,
   "metadata": {},
   "outputs": [
    {
     "name": "stdout",
     "output_type": "stream",
     "text": [
      "Recommendation for:  AJK5XGCM6M68A\n",
      "{'reviewerID': 'AJK5XGCM6M68A', 'recommendations': [(9015, 'B002TYBGUS', 6.009134292602539), (4945, 'B000BZ4YB0', 5.972158908843994), (10205, 'B000JLAWIA', 5.968705654144287), (11458, 'B005KE1IH0', 5.95878791809082), (8407, 'B000C235A8', 5.906177043914795)]}\n"
     ]
    }
   ],
   "source": [
    "print(\"Recommendation for: \", 'AJK5XGCM6M68A')\n",
    "print(result)"
   ]
  },
  {
   "cell_type": "code",
   "execution_count": 83,
   "metadata": {},
   "outputs": [],
   "source": [
    "from pyspark.sql.functions import col, explode"
   ]
  },
  {
   "cell_type": "code",
   "execution_count": 84,
   "metadata": {},
   "outputs": [],
   "source": [
    "find_user_rec = find_user_rec.select(find_user_rec.reviewerID, explode(find_user_rec.recommendations))\n"
   ]
  },
  {
   "cell_type": "code",
   "execution_count": null,
   "metadata": {},
   "outputs": [],
   "source": []
  },
  {
   "cell_type": "code",
   "execution_count": 88,
   "metadata": {},
   "outputs": [],
   "source": [
    "find_user_rec = find_user_rec.withColumn('asin', find_user_rec.col.getField(\"asin_idx\")).withColumn(\"rating\",find_user_rec.col.getField(\"rating\"))"
   ]
  },
  {
   "cell_type": "code",
   "execution_count": 89,
   "metadata": {
    "scrolled": true
   },
   "outputs": [
    {
     "name": "stdout",
     "output_type": "stream",
     "text": [
      "root\n",
      " |-- reviewerID: string (nullable = true)\n",
      " |-- col: struct (nullable = true)\n",
      " |    |-- asin_idx: integer (nullable = true)\n",
      " |    |-- rating: float (nullable = true)\n",
      " |-- asin: integer (nullable = true)\n",
      " |-- rating: float (nullable = true)\n",
      "\n"
     ]
    }
   ],
   "source": [
    "find_user_rec.printSchema()"
   ]
  },
  {
   "cell_type": "code",
   "execution_count": 92,
   "metadata": {},
   "outputs": [
    {
     "name": "stdout",
     "output_type": "stream",
     "text": [
      "+-------------+------------------+-----+---------+\n",
      "|   reviewerID|               col| asin|   rating|\n",
      "+-------------+------------------+-----+---------+\n",
      "|AJK5XGCM6M68A| {9015, 6.0091343}| 9015|6.0091343|\n",
      "|AJK5XGCM6M68A|  {4945, 5.972159}| 4945| 5.972159|\n",
      "|AJK5XGCM6M68A|{10205, 5.9687057}|10205|5.9687057|\n",
      "|AJK5XGCM6M68A| {11458, 5.958788}|11458| 5.958788|\n",
      "|AJK5XGCM6M68A|  {8407, 5.906177}| 8407| 5.906177|\n",
      "+-------------+------------------+-----+---------+\n",
      "\n"
     ]
    }
   ],
   "source": [
    "#filter all movideIDS HAVING RATING >=3.0\n",
    "find_user_rec.show()"
   ]
  },
  {
   "cell_type": "code",
   "execution_count": 95,
   "metadata": {},
   "outputs": [
    {
     "name": "stdout",
     "output_type": "stream",
     "text": [
      "+-------------+------------------+-----+---------+\n",
      "|   reviewerID|               col| asin|   rating|\n",
      "+-------------+------------------+-----+---------+\n",
      "|AJK5XGCM6M68A| {9015, 6.0091343}| 9015|6.0091343|\n",
      "|AJK5XGCM6M68A|  {4945, 5.972159}| 4945| 5.972159|\n",
      "|AJK5XGCM6M68A|{10205, 5.9687057}|10205|5.9687057|\n",
      "+-------------+------------------+-----+---------+\n",
      "only showing top 3 rows\n",
      "\n"
     ]
    }
   ],
   "source": [
    "find_user_rec.filter(find_user_rec.rating > 3.0).show(3)\n"
   ]
  },
  {
   "cell_type": "code",
   "execution_count": null,
   "metadata": {},
   "outputs": [],
   "source": []
  }
 ],
 "metadata": {
  "kernelspec": {
   "display_name": "Python 3",
   "language": "python",
   "name": "python3"
  },
  "language_info": {
   "codemirror_mode": {
    "name": "ipython",
    "version": 3
   },
   "file_extension": ".py",
   "mimetype": "text/x-python",
   "name": "python",
   "nbconvert_exporter": "python",
   "pygments_lexer": "ipython3",
   "version": "3.8.8"
  }
 },
 "nbformat": 4,
 "nbformat_minor": 2
}
